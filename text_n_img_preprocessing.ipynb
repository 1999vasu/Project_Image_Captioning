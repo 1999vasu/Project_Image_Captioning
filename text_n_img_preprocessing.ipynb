{
 "cells": [
  {
   "cell_type": "code",
   "execution_count": 1,
   "metadata": {},
   "outputs": [
    {
     "name": "stderr",
     "output_type": "stream",
     "text": [
      "Using TensorFlow backend.\n"
     ]
    }
   ],
   "source": [
    "import pandas as pd\n",
    "import numpy as np\n",
    "import pickle\n",
    "from keras.preprocessing import image,sequence"
   ]
  },
  {
   "cell_type": "code",
   "execution_count": 2,
   "metadata": {},
   "outputs": [
    {
     "name": "stdout",
     "output_type": "stream",
     "text": [
      "(30000, 2)\n"
     ]
    },
    {
     "data": {
      "text/html": [
       "<div>\n",
       "<style scoped>\n",
       "    .dataframe tbody tr th:only-of-type {\n",
       "        vertical-align: middle;\n",
       "    }\n",
       "\n",
       "    .dataframe tbody tr th {\n",
       "        vertical-align: top;\n",
       "    }\n",
       "\n",
       "    .dataframe thead th {\n",
       "        text-align: right;\n",
       "    }\n",
       "</style>\n",
       "<table border=\"1\" class=\"dataframe\">\n",
       "  <thead>\n",
       "    <tr style=\"text-align: right;\">\n",
       "      <th></th>\n",
       "      <th>0</th>\n",
       "      <th>1</th>\n",
       "    </tr>\n",
       "  </thead>\n",
       "  <tbody>\n",
       "    <tr>\n",
       "      <th>0</th>\n",
       "      <td>2513260012_03d33305cf.jpg</td>\n",
       "      <td>&lt;start&gt; A black dog is running after a white d...</td>\n",
       "    </tr>\n",
       "    <tr>\n",
       "      <th>1</th>\n",
       "      <td>2513260012_03d33305cf.jpg</td>\n",
       "      <td>&lt;start&gt; Black dog chasing brown dog through sn...</td>\n",
       "    </tr>\n",
       "    <tr>\n",
       "      <th>2</th>\n",
       "      <td>2513260012_03d33305cf.jpg</td>\n",
       "      <td>&lt;start&gt; Two dogs chase each other across the s...</td>\n",
       "    </tr>\n",
       "    <tr>\n",
       "      <th>3</th>\n",
       "      <td>2513260012_03d33305cf.jpg</td>\n",
       "      <td>&lt;start&gt; Two dogs play together in the snow . &lt;...</td>\n",
       "    </tr>\n",
       "    <tr>\n",
       "      <th>4</th>\n",
       "      <td>2513260012_03d33305cf.jpg</td>\n",
       "      <td>&lt;start&gt; Two dogs running through a low lying b...</td>\n",
       "    </tr>\n",
       "  </tbody>\n",
       "</table>\n",
       "</div>"
      ],
      "text/plain": [
       "                           0  \\\n",
       "0  2513260012_03d33305cf.jpg   \n",
       "1  2513260012_03d33305cf.jpg   \n",
       "2  2513260012_03d33305cf.jpg   \n",
       "3  2513260012_03d33305cf.jpg   \n",
       "4  2513260012_03d33305cf.jpg   \n",
       "\n",
       "                                                   1  \n",
       "0  <start> A black dog is running after a white d...  \n",
       "1  <start> Black dog chasing brown dog through sn...  \n",
       "2  <start> Two dogs chase each other across the s...  \n",
       "3  <start> Two dogs play together in the snow . <...  \n",
       "4  <start> Two dogs running through a low lying b...  "
      ]
     },
     "execution_count": 2,
     "metadata": {},
     "output_type": "execute_result"
    }
   ],
   "source": [
    "data = pd.read_csv('./traindat.txt', delimiter='\\t',header=None)\n",
    "print(data.shape)\n",
    "data.head()\n"
   ]
  },
  {
   "cell_type": "code",
   "execution_count": 3,
   "metadata": {},
   "outputs": [
    {
     "name": "stdout",
     "output_type": "stream",
     "text": [
      "30000\n"
     ]
    }
   ],
   "source": [
    "sentences = []\n",
    "for ix in range(data.shape[0]):\n",
    "    sentences.append(data.loc[ix][1])\n",
    "print(len(sentences))\n",
    "# print(sentences)"
   ]
  },
  {
   "cell_type": "code",
   "execution_count": 4,
   "metadata": {},
   "outputs": [
    {
     "name": "stdout",
     "output_type": "stream",
     "text": [
      "8253\n",
      "40\n"
     ]
    }
   ],
   "source": [
    "words = [i.split() for i in sentences]\n",
    "unique = []\n",
    "max_len = 0 \n",
    "for i in words:\n",
    "    unique.extend(i)\n",
    "    if(len(i)>max_len):\n",
    "        max_len = len(i)\n",
    "\n",
    "unique = list(set(unique))\n",
    "print(len(unique))\n",
    "print(max_len)\n",
    "vocab_size = len(unique)"
   ]
  },
  {
   "cell_type": "code",
   "execution_count": 5,
   "metadata": {},
   "outputs": [
    {
     "name": "stdout",
     "output_type": "stream",
     "text": [
      "8254\n"
     ]
    }
   ],
   "source": [
    "#Vectorization\n",
    "word_2_indices = { val:index for index, val in enumerate(unique)}\n",
    "indices_2_word = { index:val for index, val in enumerate(unique)}\n",
    "temp = indices_2_word[0]\n",
    "word_2_indices[temp]= vocab_size\n",
    "word_2_indices['EMP'] = 0\n",
    "indices_2_word[0] = 'EMP'\n",
    "indices_2_word[vocab_size]= temp\n",
    "vocab_size = len(word_2_indices)\n",
    "print(vocab_size)\n",
    "\n",
    "with open('./word_2_indices.p','wb') as f1:\n",
    "    pickle.dump(word_2_indices,f1)\n",
    "with open('./indices_2_words.p','wb') as f2:\n",
    "    pickle.dump(indices_2_word,f2)\n",
    "f1.close()\n",
    "f2.close()"
   ]
  },
  {
   "cell_type": "code",
   "execution_count": 6,
   "metadata": {},
   "outputs": [
    {
     "name": "stdout",
     "output_type": "stream",
     "text": [
      "(30000,)\n",
      "(30000,)\n"
     ]
    }
   ],
   "source": [
    "padded_sequences, subsequent_words = [], []\n",
    "\n",
    "for ix in range(len(sentences)):\n",
    "    partial_seqs = []\n",
    "    next_words = []\n",
    "    text = sentences[ix].split()\n",
    "    text = [word_2_indices[i] for i in text]\n",
    "    for i in range(1, len(text)):\n",
    "        partial_seqs.append(text[:i])\n",
    "        next_words.append(text[i])\n",
    "    \n",
    "    padded_partial_seqs = sequence.pad_sequences(partial_seqs, max_len, padding='post')\n",
    "    next_words_1hot = np.zeros([len(next_words), vocab_size], dtype=np.bool)\n",
    "    \n",
    "    #Vectorization\n",
    "    for i,next_word in enumerate(next_words):\n",
    "        next_words_1hot[i, next_word] = 1\n",
    "        \n",
    "    padded_sequences.append(padded_partial_seqs)\n",
    "    subsequent_words.append(next_words_1hot)\n",
    "    \n",
    "padded_sequences = np.asarray(padded_sequences)\n",
    "subsequent_words = np.asarray(subsequent_words)\n",
    "\n",
    "print(padded_sequences.shape)\n",
    "print(subsequent_words.shape)"
   ]
  },
  {
   "cell_type": "code",
   "execution_count": 7,
   "metadata": {},
   "outputs": [
    {
     "name": "stdout",
     "output_type": "stream",
     "text": [
      "(14, 40)\n",
      "(14, 8254)\n"
     ]
    }
   ],
   "source": [
    "print(padded_sequences[0].shape)\n",
    "print(subsequent_words[0].shape)"
   ]
  },
  {
   "cell_type": "code",
   "execution_count": 8,
   "metadata": {},
   "outputs": [
    {
     "name": "stdout",
     "output_type": "stream",
     "text": [
      "<start> EMP EMP EMP EMP EMP EMP EMP EMP EMP EMP EMP EMP EMP EMP EMP EMP EMP EMP EMP EMP EMP EMP EMP EMP EMP EMP EMP EMP EMP EMP EMP EMP EMP EMP EMP EMP EMP EMP EMP \n",
      "\n",
      "<start> A EMP EMP EMP EMP EMP EMP EMP EMP EMP EMP EMP EMP EMP EMP EMP EMP EMP EMP EMP EMP EMP EMP EMP EMP EMP EMP EMP EMP EMP EMP EMP EMP EMP EMP EMP EMP EMP EMP \n",
      "\n",
      "<start> A black EMP EMP EMP EMP EMP EMP EMP EMP EMP EMP EMP EMP EMP EMP EMP EMP EMP EMP EMP EMP EMP EMP EMP EMP EMP EMP EMP EMP EMP EMP EMP EMP EMP EMP EMP EMP EMP \n",
      "\n",
      "<start> A black dog EMP EMP EMP EMP EMP EMP EMP EMP EMP EMP EMP EMP EMP EMP EMP EMP EMP EMP EMP EMP EMP EMP EMP EMP EMP EMP EMP EMP EMP EMP EMP EMP EMP EMP EMP EMP \n",
      "\n",
      "<start> A black dog is EMP EMP EMP EMP EMP EMP EMP EMP EMP EMP EMP EMP EMP EMP EMP EMP EMP EMP EMP EMP EMP EMP EMP EMP EMP EMP EMP EMP EMP EMP EMP EMP EMP EMP EMP \n",
      "\n",
      "<start> A black dog is running EMP EMP EMP EMP EMP EMP EMP EMP EMP EMP EMP EMP EMP EMP EMP EMP EMP EMP EMP EMP EMP EMP EMP EMP EMP EMP EMP EMP EMP EMP EMP EMP EMP EMP \n",
      "\n",
      "<start> A black dog is running after EMP EMP EMP EMP EMP EMP EMP EMP EMP EMP EMP EMP EMP EMP EMP EMP EMP EMP EMP EMP EMP EMP EMP EMP EMP EMP EMP EMP EMP EMP EMP EMP EMP \n",
      "\n",
      "<start> A black dog is running after a EMP EMP EMP EMP EMP EMP EMP EMP EMP EMP EMP EMP EMP EMP EMP EMP EMP EMP EMP EMP EMP EMP EMP EMP EMP EMP EMP EMP EMP EMP EMP EMP \n",
      "\n",
      "<start> A black dog is running after a white EMP EMP EMP EMP EMP EMP EMP EMP EMP EMP EMP EMP EMP EMP EMP EMP EMP EMP EMP EMP EMP EMP EMP EMP EMP EMP EMP EMP EMP EMP EMP \n",
      "\n",
      "<start> A black dog is running after a white dog EMP EMP EMP EMP EMP EMP EMP EMP EMP EMP EMP EMP EMP EMP EMP EMP EMP EMP EMP EMP EMP EMP EMP EMP EMP EMP EMP EMP EMP EMP \n",
      "\n",
      "<start> A black dog is running after a white dog in EMP EMP EMP EMP EMP EMP EMP EMP EMP EMP EMP EMP EMP EMP EMP EMP EMP EMP EMP EMP EMP EMP EMP EMP EMP EMP EMP EMP EMP \n",
      "\n",
      "<start> A black dog is running after a white dog in the EMP EMP EMP EMP EMP EMP EMP EMP EMP EMP EMP EMP EMP EMP EMP EMP EMP EMP EMP EMP EMP EMP EMP EMP EMP EMP EMP EMP \n",
      "\n",
      "<start> A black dog is running after a white dog in the snow EMP EMP EMP EMP EMP EMP EMP EMP EMP EMP EMP EMP EMP EMP EMP EMP EMP EMP EMP EMP EMP EMP EMP EMP EMP EMP EMP \n",
      "\n",
      "<start> A black dog is running after a white dog in the snow . EMP EMP EMP EMP EMP EMP EMP EMP EMP EMP EMP EMP EMP EMP EMP EMP EMP EMP EMP EMP EMP EMP EMP EMP EMP EMP \n",
      "\n",
      "14\n"
     ]
    }
   ],
   "source": [
    "for ix in range(len(padded_sequences[0])):\n",
    "    for iy in range(max_len):\n",
    "        print(indices_2_word[padded_sequences[0][ix][iy]],end=' ')\n",
    "    print(\"\\n\")\n",
    "\n",
    "print(len(padded_sequences[0]))"
   ]
  },
  {
   "cell_type": "code",
   "execution_count": 9,
   "metadata": {},
   "outputs": [
    {
     "name": "stdout",
     "output_type": "stream",
     "text": [
      "(30000,)\n",
      "(0, 40)\n",
      "(0, 8254)\n",
      "0 100 200 300 400 500 600 700 800 900 1000 1100 1200 1300 1400 1500 1600 1700 1800 1900 "
     ]
    }
   ],
   "source": [
    "with open('./train_encoded_images.p', 'rb') as f:\n",
    "        encoded_images = pickle.load(f)\n",
    "\n",
    "imgs = []\n",
    "for ix in range(data.shape[0]):\n",
    "    if data.loc[ix, 0] in encoded_images.keys():\n",
    "        imgs.append(list(encoded_images[data.loc[ix, 0]]))\n",
    "\n",
    "    else:\n",
    "        imgs.append(list([]))\n",
    "images = []\n",
    "image_names = []\n",
    "\n",
    "imgs = np.asarray(imgs)\n",
    "print(imgs.shape)\n",
    "\n",
    "captions = np.zeros([0, max_len])\n",
    "print(captions.shape)\n",
    "next_words = np.zeros([0, vocab_size])\n",
    "print(next_words.shape)\n",
    "for ix in range(2000):\n",
    "    if(len(imgs[ix])!=0):\n",
    "        captions = np.concatenate([captions, padded_sequences[ix]])\n",
    "        next_words = np.concatenate([next_words, subsequent_words[ix]])\n",
    "        for iy in range(padded_sequences[ix].shape[0]):\n",
    "            image_names.append(data.loc[ix][0])\n",
    "            images.append(imgs[ix])\n",
    "        \n",
    "    if(ix%100==0):\n",
    "        print(ix,end=' ')\n",
    "image_names = np.asarray(image_names)\n",
    "images = np.asarray(images)\n",
    "        \n",
    "np.save(\"./captions.npy\", captions)\n",
    "np.save(\"./next_words.npy\", next_words)\n",
    "np.save(\"./image_names.npy\", image_names)\n",
    "np.save(\"./images.npy\", images)\n"
   ]
  },
  {
   "cell_type": "code",
   "execution_count": 10,
   "metadata": {},
   "outputs": [
    {
     "name": "stdout",
     "output_type": "stream",
     "text": [
      "(25493, 40)\n",
      "(25493, 8254)\n",
      "25493\n",
      "25493\n"
     ]
    }
   ],
   "source": [
    "print(captions.shape)\n",
    "print(next_words.shape)\n",
    "print(len(image_names))\n",
    "print(len(images))"
   ]
  },
  {
   "cell_type": "code",
   "execution_count": null,
   "metadata": {},
   "outputs": [],
   "source": []
  }
 ],
 "metadata": {
  "kernelspec": {
   "display_name": "Python 3",
   "language": "python",
   "name": "python3"
  },
  "language_info": {
   "codemirror_mode": {
    "name": "ipython",
    "version": 3
   },
   "file_extension": ".py",
   "mimetype": "text/x-python",
   "name": "python",
   "nbconvert_exporter": "python",
   "pygments_lexer": "ipython3",
   "version": "3.6.7"
  }
 },
 "nbformat": 4,
 "nbformat_minor": 2
}
