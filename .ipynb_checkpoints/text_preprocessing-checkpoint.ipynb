{
 "cells": [
  {
   "cell_type": "code",
   "execution_count": 1,
   "metadata": {},
   "outputs": [
    {
     "name": "stderr",
     "output_type": "stream",
     "text": [
      "Using TensorFlow backend.\n"
     ]
    }
   ],
   "source": [
    "import pandas as pd\n",
    "import numpy as np\n",
    "import pickle\n",
    "from keras.preprocessing import image,sequence"
   ]
  },
  {
   "cell_type": "code",
   "execution_count": 3,
   "metadata": {},
   "outputs": [
    {
     "name": "stdout",
     "output_type": "stream",
     "text": [
      "(30000, 2)\n"
     ]
    },
    {
     "data": {
      "text/html": [
       "<div>\n",
       "<style scoped>\n",
       "    .dataframe tbody tr th:only-of-type {\n",
       "        vertical-align: middle;\n",
       "    }\n",
       "\n",
       "    .dataframe tbody tr th {\n",
       "        vertical-align: top;\n",
       "    }\n",
       "\n",
       "    .dataframe thead th {\n",
       "        text-align: right;\n",
       "    }\n",
       "</style>\n",
       "<table border=\"1\" class=\"dataframe\">\n",
       "  <thead>\n",
       "    <tr style=\"text-align: right;\">\n",
       "      <th></th>\n",
       "      <th>0</th>\n",
       "      <th>1</th>\n",
       "    </tr>\n",
       "  </thead>\n",
       "  <tbody>\n",
       "    <tr>\n",
       "      <th>0</th>\n",
       "      <td>2513260012_03d33305cf.jpg</td>\n",
       "      <td>&lt;start&gt; A black dog is running after a white d...</td>\n",
       "    </tr>\n",
       "    <tr>\n",
       "      <th>1</th>\n",
       "      <td>2513260012_03d33305cf.jpg</td>\n",
       "      <td>&lt;start&gt; Black dog chasing brown dog through sn...</td>\n",
       "    </tr>\n",
       "    <tr>\n",
       "      <th>2</th>\n",
       "      <td>2513260012_03d33305cf.jpg</td>\n",
       "      <td>&lt;start&gt; Two dogs chase each other across the s...</td>\n",
       "    </tr>\n",
       "    <tr>\n",
       "      <th>3</th>\n",
       "      <td>2513260012_03d33305cf.jpg</td>\n",
       "      <td>&lt;start&gt; Two dogs play together in the snow . &lt;...</td>\n",
       "    </tr>\n",
       "    <tr>\n",
       "      <th>4</th>\n",
       "      <td>2513260012_03d33305cf.jpg</td>\n",
       "      <td>&lt;start&gt; Two dogs running through a low lying b...</td>\n",
       "    </tr>\n",
       "  </tbody>\n",
       "</table>\n",
       "</div>"
      ],
      "text/plain": [
       "                           0  \\\n",
       "0  2513260012_03d33305cf.jpg   \n",
       "1  2513260012_03d33305cf.jpg   \n",
       "2  2513260012_03d33305cf.jpg   \n",
       "3  2513260012_03d33305cf.jpg   \n",
       "4  2513260012_03d33305cf.jpg   \n",
       "\n",
       "                                                   1  \n",
       "0  <start> A black dog is running after a white d...  \n",
       "1  <start> Black dog chasing brown dog through sn...  \n",
       "2  <start> Two dogs chase each other across the s...  \n",
       "3  <start> Two dogs play together in the snow . <...  \n",
       "4  <start> Two dogs running through a low lying b...  "
      ]
     },
     "execution_count": 3,
     "metadata": {},
     "output_type": "execute_result"
    }
   ],
   "source": [
    "data = pd.read_csv('./traindat.txt', delimiter='\\t',header=None)\n",
    "print(data.shape)\n",
    "data.head()\n"
   ]
  },
  {
   "cell_type": "code",
   "execution_count": 10,
   "metadata": {},
   "outputs": [
    {
     "name": "stdout",
     "output_type": "stream",
     "text": [
      "30000\n"
     ]
    }
   ],
   "source": [
    "sentences = []\n",
    "for ix in range(data.shape[0]):\n",
    "    sentences.append(data.loc[ix][1])\n",
    "print(len(sentences))\n",
    "# print(sentences)"
   ]
  },
  {
   "cell_type": "code",
   "execution_count": 26,
   "metadata": {},
   "outputs": [
    {
     "name": "stdout",
     "output_type": "stream",
     "text": [
      "8253\n",
      "40\n"
     ]
    }
   ],
   "source": [
    "words = [i.split() for i in sentences]\n",
    "unique = []\n",
    "max_len = 0 \n",
    "for i in words:\n",
    "    unique.extend(i)\n",
    "    if(len(i)>max_len):\n",
    "        max_len = len(i)\n",
    "\n",
    "unique = list(set(unique))\n",
    "print(len(unique))\n",
    "print(max_len)\n",
    "vocab_size = len(unique)"
   ]
  },
  {
   "cell_type": "code",
   "execution_count": 27,
   "metadata": {},
   "outputs": [
    {
     "name": "stdout",
     "output_type": "stream",
     "text": [
      "8254\n"
     ]
    }
   ],
   "source": [
    "#Vectorization\n",
    "word_2_indices = { val:index for index, val in enumerate(unique)}\n",
    "indices_2_word = { index:val for index, val in enumerate(unique)}\n",
    "temp = indices_2_word[0]\n",
    "word_2_indices[temp]= vocab_size\n",
    "word_2_indices['EMP'] = 0\n",
    "indices_2_word[0] = 'EMP'\n",
    "indices_2_word[vocab_size]= temp\n",
    "vocab_size = len(word_2_indices)\n",
    "print(vocab_size)"
   ]
  },
  {
   "cell_type": "code",
   "execution_count": null,
   "metadata": {},
   "outputs": [],
   "source": []
  }
 ],
 "metadata": {
  "kernelspec": {
   "display_name": "Python 3",
   "language": "python",
   "name": "python3"
  },
  "language_info": {
   "codemirror_mode": {
    "name": "ipython",
    "version": 3
   },
   "file_extension": ".py",
   "mimetype": "text/x-python",
   "name": "python",
   "nbconvert_exporter": "python",
   "pygments_lexer": "ipython3",
   "version": "3.6.7"
  }
 },
 "nbformat": 4,
 "nbformat_minor": 2
}
